{
 "cells": [
  {
   "cell_type": "markdown",
   "id": "d68d35b9",
   "metadata": {},
   "source": [
    "## Building a Recommender System"
   ]
  },
  {
   "cell_type": "markdown",
   "id": "cff4ad60",
   "metadata": {},
   "source": [
    "## Objective:\n",
    "\n",
    "### I want to build a movie recommender system.\n",
    "\n",
    "- The recommender system should suggest a catalogue of movies for the user to watch.\n",
    "- User should be able to make a profile, where the app tries to understand the users likings and dislikings.  \n",
    "\n",
    "### Mandatory Features  \n",
    "\n",
    "    - User Should be able to pick favourite genres.\n",
    "    - User Should be able to pick favourite movies.\n",
    "    - User Should be able to rate favourite movies.  \n",
    "    \n",
    "### Optional Features   \n",
    "\n",
    "    - Profile Creation using feedback. The feedback about movies falls into one of two categories:\n",
    "        - Explicit— users specify how much they liked a particular movie by providing a numerical rating.\n",
    "        - Implicit— if a user watches a movie, the system infers that the user is interested.\n",
    "    - The model should be able to make \"Cold Start\" Recommendations, that is, \n",
    "        - New users still receive recommendations. \n",
    "        - Movies that are not very famous should be able to be recommended proportionally.  \n",
    "        \n",
    "### The recommendations should be made of two types.  \n",
    "\n",
    "    - Home Page Recommendations.\n",
    "        This is the catalogue that the user will see immediately when he opens the app.\n",
    "    - Query Related Recommendations.\n",
    "        This is the catalogue that the user will see when he searches through keywords (like movie names and genres).\n",
    "        \n",
    "### Evaluation\n",
    "    - Evaluations can be of many types for a recommender system, some are designed to maximise the watch time of users on a particular website, some are designed to maximise clicks on the website, while some are designed to maximise engagement.  \n",
    "    \n",
    "    - For this project, my priority will be maximising engagement in the least amount possible,  \n",
    "    That is, user should find a movie he is interested in after browsing the smallest possible catalogue.\n"
   ]
  },
  {
   "cell_type": "markdown",
   "id": "c9951fbd",
   "metadata": {},
   "source": [
    "## Dataset:\n",
    "\n",
    "I will be using the [MovieLens](https://grouplens.org/datasets/movielens/) dataset for this purpose.\n",
    "I have decided to use the mini dataset for faster model training and evaluation but I do plan to use the full dataset once I am happy with the performance on smaller dataset.\n",
    "\n",
    "\n",
    "The data set consists of 4 csv files named links, movies,ratings and tags\n",
    "  - ratings.csv \n",
    "      - all ratings contained in the file ratings.csv\n",
    "      - ratings made from 0-5 with 0.5 incrementation\n",
    "      - ratings have attached user ID's with each rating.\n",
    "      - each rating contains an attached timestamp signifying that represent seconds since midnight Coordinated Universal Time (UTC) of January 1, 1970.\n",
    "  - tags.csv \n",
    "      - contains all the tags given by user.\n",
    "      - contains user ID along with every tag.\n",
    "      - contains timestamps represent seconds since midnight Coordinated Universal Time (UTC) of January 1, 1970.\n",
    "  - movies.csv \n",
    "      - contains information about movie titles.\n",
    "      - movie gneres associated with the movie.\n",
    "      - along with release year of the movie.\n",
    "  - links.csv \n",
    "      - contains identifiers that can be used to link other sources of movies data\n",
    "      - movieId - identifier movieLens\n",
    "      - imdbId - identifier imdb \n",
    "      - tmdbId - identifier  theMovieDb\n",
    "\n",
    "This data set describes a 5 - star rating and free-text tagging activity from MovieLens(a movie recommender service)\n",
    "100836 ratings\n",
    "3683 tag applications\n",
    "9742 movies\n",
    "users involed in creation = 610\n",
    "duration of collection of data - March 29, 1996 - September 24, 2018\n",
    "every user rated atleaset 20 ratings"
   ]
  },
  {
   "cell_type": "markdown",
   "id": "e3e720a4",
   "metadata": {},
   "source": [
    "## Tech Stack\n",
    "- Data Exploration \n",
    "    - Python 3.10\n",
    "    - Pandas\n",
    "    - Numpy\n",
    "- Data Cleaning & Preprocessing\n",
    "    - Python 3.10\n",
    "    - Pandas\n",
    "    - Numpy\n",
    "    - Regular Expression\n",
    "    - TextBlob\n",
    "- Data Visualization\n",
    "    - Python 3.10\n",
    "    - Pandas\n",
    "    - Matplotlib\n",
    "    - Seaborn\n",
    "    - Plotly\n",
    "- Recommender Model\n",
    "    - Python 3.10\n",
    "    - SciKit Learn\n",
    "    - Tensorflow\n",
    "- API & UI\n",
    "    - To be Decided"
   ]
  },
  {
   "cell_type": "markdown",
   "id": "2c6411e8",
   "metadata": {},
   "source": [
    "### Importing Libraries"
   ]
  },
  {
   "cell_type": "code",
   "execution_count": 1,
   "id": "24cec490",
   "metadata": {},
   "outputs": [],
   "source": [
    "import pandas as pd\n",
    "import seaborn as sns\n",
    "import matplotlib.pyplot as plt\n",
    "import re\n",
    "import textblob\n",
    "\n",
    "pd.options.display.max_rows = 30\n",
    "pd.options.display.float_format = '{:.3f}'.format\n",
    "pd.options.display.max_columns = 100\n",
    "pd.options.display.width = 10000\n",
    "\n",
    "%matplotlib inline"
   ]
  },
  {
   "cell_type": "markdown",
   "id": "a400b729",
   "metadata": {},
   "source": [
    "## Importing Dataset"
   ]
  },
  {
   "cell_type": "code",
   "execution_count": 2,
   "id": "608b63f3",
   "metadata": {},
   "outputs": [
    {
     "name": "stdout",
     "output_type": "stream",
     "text": [
      "<class 'pandas.core.frame.DataFrame'>\n",
      "RangeIndex: 9742 entries, 0 to 9741\n",
      "Data columns (total 3 columns):\n",
      " #   Column   Non-Null Count  Dtype \n",
      "---  ------   --------------  ----- \n",
      " 0   movieId  9742 non-null   int64 \n",
      " 1   title    9742 non-null   object\n",
      " 2   genres   9742 non-null   object\n",
      "dtypes: int64(1), object(2)\n",
      "memory usage: 228.5+ KB\n"
     ]
    }
   ],
   "source": [
    "movies_df = pd.read_csv('data_movielens/movies.csv')\n",
    "movies_df.info()"
   ]
  },
  {
   "cell_type": "code",
   "execution_count": 3,
   "id": "6f2b603c",
   "metadata": {},
   "outputs": [
    {
     "name": "stdout",
     "output_type": "stream",
     "text": [
      "<class 'pandas.core.frame.DataFrame'>\n",
      "RangeIndex: 9742 entries, 0 to 9741\n",
      "Data columns (total 3 columns):\n",
      " #   Column   Non-Null Count  Dtype  \n",
      "---  ------   --------------  -----  \n",
      " 0   movieId  9742 non-null   int64  \n",
      " 1   imdbId   9742 non-null   int64  \n",
      " 2   tmdbId   9734 non-null   float64\n",
      "dtypes: float64(1), int64(2)\n",
      "memory usage: 228.5 KB\n"
     ]
    }
   ],
   "source": [
    "links_df = pd.read_csv('data_movielens/links.csv')\n",
    "links_df.info()"
   ]
  },
  {
   "cell_type": "code",
   "execution_count": 4,
   "id": "75d74a7d",
   "metadata": {},
   "outputs": [
    {
     "name": "stdout",
     "output_type": "stream",
     "text": [
      "<class 'pandas.core.frame.DataFrame'>\n",
      "RangeIndex: 100836 entries, 0 to 100835\n",
      "Data columns (total 4 columns):\n",
      " #   Column     Non-Null Count   Dtype  \n",
      "---  ------     --------------   -----  \n",
      " 0   userId     100836 non-null  int64  \n",
      " 1   movieId    100836 non-null  int64  \n",
      " 2   rating     100836 non-null  float64\n",
      " 3   timestamp  100836 non-null  int64  \n",
      "dtypes: float64(1), int64(3)\n",
      "memory usage: 3.1 MB\n"
     ]
    }
   ],
   "source": [
    "ratings_df = pd.read_csv('data_movielens/ratings.csv')\n",
    "ratings_df.info()"
   ]
  },
  {
   "cell_type": "code",
   "execution_count": 5,
   "id": "d2b747f5",
   "metadata": {
    "scrolled": true
   },
   "outputs": [
    {
     "name": "stdout",
     "output_type": "stream",
     "text": [
      "<class 'pandas.core.frame.DataFrame'>\n",
      "RangeIndex: 3683 entries, 0 to 3682\n",
      "Data columns (total 4 columns):\n",
      " #   Column     Non-Null Count  Dtype \n",
      "---  ------     --------------  ----- \n",
      " 0   userId     3683 non-null   int64 \n",
      " 1   movieId    3683 non-null   int64 \n",
      " 2   tag        3683 non-null   object\n",
      " 3   timestamp  3683 non-null   int64 \n",
      "dtypes: int64(3), object(1)\n",
      "memory usage: 115.2+ KB\n"
     ]
    }
   ],
   "source": [
    "tags_df = pd.read_csv('data_movielens/tags.csv')\n",
    "tags_df.info()"
   ]
  },
  {
   "cell_type": "markdown",
   "id": "072b32e2",
   "metadata": {},
   "source": [
    "## Data Exploration & Preprocessing"
   ]
  },
  {
   "cell_type": "markdown",
   "id": "07b3baa0",
   "metadata": {},
   "source": [
    "### Movies Dataframe"
   ]
  },
  {
   "cell_type": "code",
   "execution_count": 6,
   "id": "dab9a259",
   "metadata": {
    "scrolled": true
   },
   "outputs": [
    {
     "data": {
      "text/html": [
       "<div>\n",
       "<style scoped>\n",
       "    .dataframe tbody tr th:only-of-type {\n",
       "        vertical-align: middle;\n",
       "    }\n",
       "\n",
       "    .dataframe tbody tr th {\n",
       "        vertical-align: top;\n",
       "    }\n",
       "\n",
       "    .dataframe thead th {\n",
       "        text-align: right;\n",
       "    }\n",
       "</style>\n",
       "<table border=\"1\" class=\"dataframe\">\n",
       "  <thead>\n",
       "    <tr style=\"text-align: right;\">\n",
       "      <th></th>\n",
       "      <th>movieId</th>\n",
       "      <th>title</th>\n",
       "      <th>genres</th>\n",
       "    </tr>\n",
       "  </thead>\n",
       "  <tbody>\n",
       "    <tr>\n",
       "      <th>0</th>\n",
       "      <td>1</td>\n",
       "      <td>Toy Story (1995)</td>\n",
       "      <td>Adventure|Animation|Children|Comedy|Fantasy</td>\n",
       "    </tr>\n",
       "    <tr>\n",
       "      <th>1</th>\n",
       "      <td>2</td>\n",
       "      <td>Jumanji (1995)</td>\n",
       "      <td>Adventure|Children|Fantasy</td>\n",
       "    </tr>\n",
       "    <tr>\n",
       "      <th>2</th>\n",
       "      <td>3</td>\n",
       "      <td>Grumpier Old Men (1995)</td>\n",
       "      <td>Comedy|Romance</td>\n",
       "    </tr>\n",
       "    <tr>\n",
       "      <th>3</th>\n",
       "      <td>4</td>\n",
       "      <td>Waiting to Exhale (1995)</td>\n",
       "      <td>Comedy|Drama|Romance</td>\n",
       "    </tr>\n",
       "    <tr>\n",
       "      <th>4</th>\n",
       "      <td>5</td>\n",
       "      <td>Father of the Bride Part II (1995)</td>\n",
       "      <td>Comedy</td>\n",
       "    </tr>\n",
       "  </tbody>\n",
       "</table>\n",
       "</div>"
      ],
      "text/plain": [
       "   movieId                               title                                       genres\n",
       "0        1                    Toy Story (1995)  Adventure|Animation|Children|Comedy|Fantasy\n",
       "1        2                      Jumanji (1995)                   Adventure|Children|Fantasy\n",
       "2        3             Grumpier Old Men (1995)                               Comedy|Romance\n",
       "3        4            Waiting to Exhale (1995)                         Comedy|Drama|Romance\n",
       "4        5  Father of the Bride Part II (1995)                                       Comedy"
      ]
     },
     "execution_count": 6,
     "metadata": {},
     "output_type": "execute_result"
    }
   ],
   "source": [
    "movies_df.head()"
   ]
  },
  {
   "cell_type": "markdown",
   "id": "9efa190e",
   "metadata": {},
   "source": [
    "### Data Cleaning & Preprocessing\n",
    "1. Extract Release Year\n",
    "2. Extract Genres and store in One Hot Encoding"
   ]
  },
  {
   "cell_type": "markdown",
   "id": "2127041f",
   "metadata": {},
   "source": [
    "1. Release Year"
   ]
  },
  {
   "cell_type": "code",
   "execution_count": 7,
   "id": "f24d1264",
   "metadata": {},
   "outputs": [],
   "source": [
    "weird_movieID = set([])\n",
    "for idx in range(movies_df.shape[0]):\n",
    "    if movies_df.loc[idx,'title'].count('(') != 1 :\n",
    "        weird_movieID.add(idx)\n",
    "    elif movies_df.loc[idx,'title'].count(')') != 1 :\n",
    "        weird_movieID.add(idx)"
   ]
  },
  {
   "cell_type": "code",
   "execution_count": 8,
   "id": "9212eda9",
   "metadata": {},
   "outputs": [
    {
     "name": "stderr",
     "output_type": "stream",
     "text": [
      "C:\\Users\\Kartikeya\\AppData\\Local\\Temp\\ipykernel_15280\\3128902862.py:1: FutureWarning: Passing a set as an indexer is deprecated and will raise in a future version. Use a list instead.\n",
      "  movies_df.loc[weird_movieID]\n"
     ]
    },
    {
     "data": {
      "text/html": [
       "<div>\n",
       "<style scoped>\n",
       "    .dataframe tbody tr th:only-of-type {\n",
       "        vertical-align: middle;\n",
       "    }\n",
       "\n",
       "    .dataframe tbody tr th {\n",
       "        vertical-align: top;\n",
       "    }\n",
       "\n",
       "    .dataframe thead th {\n",
       "        text-align: right;\n",
       "    }\n",
       "</style>\n",
       "<table border=\"1\" class=\"dataframe\">\n",
       "  <thead>\n",
       "    <tr style=\"text-align: right;\">\n",
       "      <th></th>\n",
       "      <th>movieId</th>\n",
       "      <th>title</th>\n",
       "      <th>genres</th>\n",
       "    </tr>\n",
       "  </thead>\n",
       "  <tbody>\n",
       "    <tr>\n",
       "      <th>2052</th>\n",
       "      <td>2731</td>\n",
       "      <td>400 Blows, The (Les quatre cents coups) (1959)</td>\n",
       "      <td>Crime|Drama</td>\n",
       "    </tr>\n",
       "    <tr>\n",
       "      <th>2053</th>\n",
       "      <td>2732</td>\n",
       "      <td>Jules and Jim (Jules et Jim) (1961)</td>\n",
       "      <td>Drama|Romance</td>\n",
       "    </tr>\n",
       "    <tr>\n",
       "      <th>4101</th>\n",
       "      <td>5878</td>\n",
       "      <td>Talk to Her (Hable con Ella) (2002)</td>\n",
       "      <td>Drama|Romance</td>\n",
       "    </tr>\n",
       "    <tr>\n",
       "      <th>4102</th>\n",
       "      <td>5879</td>\n",
       "      <td>Eight Crazy Nights (Adam Sandler's Eight Crazy...</td>\n",
       "      <td>Animation|Comedy|Musical</td>\n",
       "    </tr>\n",
       "    <tr>\n",
       "      <th>8196</th>\n",
       "      <td>103235</td>\n",
       "      <td>Best Offer, The (Migliore offerta, La) (2013)</td>\n",
       "      <td>Thriller</td>\n",
       "    </tr>\n",
       "    <tr>\n",
       "      <th>...</th>\n",
       "      <td>...</td>\n",
       "      <td>...</td>\n",
       "      <td>...</td>\n",
       "    </tr>\n",
       "    <tr>\n",
       "      <th>8180</th>\n",
       "      <td>102984</td>\n",
       "      <td>Inhuman Resources (Redd Inc.) (2012)</td>\n",
       "      <td>Horror|Thriller</td>\n",
       "    </tr>\n",
       "    <tr>\n",
       "      <th>2038</th>\n",
       "      <td>2716</td>\n",
       "      <td>Ghostbusters (a.k.a. Ghost Busters) (1984)</td>\n",
       "      <td>Action|Comedy|Sci-Fi</td>\n",
       "    </tr>\n",
       "    <tr>\n",
       "      <th>4086</th>\n",
       "      <td>5839</td>\n",
       "      <td>My Father's Glory (La gloire de mon père) (1990)</td>\n",
       "      <td>Adventure|Drama</td>\n",
       "    </tr>\n",
       "    <tr>\n",
       "      <th>4091</th>\n",
       "      <td>5849</td>\n",
       "      <td>I'm Starting From Three (Ricomincio da Tre) (1...</td>\n",
       "      <td>Comedy</td>\n",
       "    </tr>\n",
       "    <tr>\n",
       "      <th>4093</th>\n",
       "      <td>5856</td>\n",
       "      <td>Do You Remember Dolly Bell? (Sjecas li se, Dol...</td>\n",
       "      <td>Comedy|Drama|Romance</td>\n",
       "    </tr>\n",
       "  </tbody>\n",
       "</table>\n",
       "<p>1085 rows × 3 columns</p>\n",
       "</div>"
      ],
      "text/plain": [
       "      movieId                                              title                    genres\n",
       "2052     2731     400 Blows, The (Les quatre cents coups) (1959)               Crime|Drama\n",
       "2053     2732                Jules and Jim (Jules et Jim) (1961)             Drama|Romance\n",
       "4101     5878                Talk to Her (Hable con Ella) (2002)             Drama|Romance\n",
       "4102     5879  Eight Crazy Nights (Adam Sandler's Eight Crazy...  Animation|Comedy|Musical\n",
       "8196   103235      Best Offer, The (Migliore offerta, La) (2013)                  Thriller\n",
       "...       ...                                                ...                       ...\n",
       "8180   102984               Inhuman Resources (Redd Inc.) (2012)           Horror|Thriller\n",
       "2038     2716         Ghostbusters (a.k.a. Ghost Busters) (1984)      Action|Comedy|Sci-Fi\n",
       "4086     5839   My Father's Glory (La gloire de mon père) (1990)           Adventure|Drama\n",
       "4091     5849  I'm Starting From Three (Ricomincio da Tre) (1...                    Comedy\n",
       "4093     5856  Do You Remember Dolly Bell? (Sjecas li se, Dol...      Comedy|Drama|Romance\n",
       "\n",
       "[1085 rows x 3 columns]"
      ]
     },
     "execution_count": 8,
     "metadata": {},
     "output_type": "execute_result"
    }
   ],
   "source": [
    "movies_df.loc[weird_movieID]"
   ]
  },
  {
   "cell_type": "code",
   "execution_count": 9,
   "id": "b4f11a4b",
   "metadata": {},
   "outputs": [],
   "source": [
    "# Separting movie title and year part using split function.\n",
    "split_values = movies_df['title'].str.rsplit(\"(\", n = 1, expand = True)\n",
    "# setting 'movie_title' values to title part.\n",
    "movies_df.title = split_values[0]\n",
    "# creating 'release_year' column.\n",
    "movies_df['release_year'] = split_values[1]\n",
    "# Cleaning the release_year series.\n",
    "movies_df['release_year'] = movies_df.release_year.str[0:4]"
   ]
  },
  {
   "cell_type": "code",
   "execution_count": 10,
   "id": "40992961",
   "metadata": {
    "scrolled": true
   },
   "outputs": [
    {
     "data": {
      "text/html": [
       "<div>\n",
       "<style scoped>\n",
       "    .dataframe tbody tr th:only-of-type {\n",
       "        vertical-align: middle;\n",
       "    }\n",
       "\n",
       "    .dataframe tbody tr th {\n",
       "        vertical-align: top;\n",
       "    }\n",
       "\n",
       "    .dataframe thead th {\n",
       "        text-align: right;\n",
       "    }\n",
       "</style>\n",
       "<table border=\"1\" class=\"dataframe\">\n",
       "  <thead>\n",
       "    <tr style=\"text-align: right;\">\n",
       "      <th></th>\n",
       "      <th>movieId</th>\n",
       "      <th>title</th>\n",
       "      <th>genres</th>\n",
       "      <th>release_year</th>\n",
       "    </tr>\n",
       "  </thead>\n",
       "  <tbody>\n",
       "    <tr>\n",
       "      <th>0</th>\n",
       "      <td>1</td>\n",
       "      <td>Toy Story</td>\n",
       "      <td>Adventure|Animation|Children|Comedy|Fantasy</td>\n",
       "      <td>1995</td>\n",
       "    </tr>\n",
       "    <tr>\n",
       "      <th>1</th>\n",
       "      <td>2</td>\n",
       "      <td>Jumanji</td>\n",
       "      <td>Adventure|Children|Fantasy</td>\n",
       "      <td>1995</td>\n",
       "    </tr>\n",
       "    <tr>\n",
       "      <th>2</th>\n",
       "      <td>3</td>\n",
       "      <td>Grumpier Old Men</td>\n",
       "      <td>Comedy|Romance</td>\n",
       "      <td>1995</td>\n",
       "    </tr>\n",
       "    <tr>\n",
       "      <th>3</th>\n",
       "      <td>4</td>\n",
       "      <td>Waiting to Exhale</td>\n",
       "      <td>Comedy|Drama|Romance</td>\n",
       "      <td>1995</td>\n",
       "    </tr>\n",
       "    <tr>\n",
       "      <th>4</th>\n",
       "      <td>5</td>\n",
       "      <td>Father of the Bride Part II</td>\n",
       "      <td>Comedy</td>\n",
       "      <td>1995</td>\n",
       "    </tr>\n",
       "  </tbody>\n",
       "</table>\n",
       "</div>"
      ],
      "text/plain": [
       "   movieId                         title                                       genres release_year\n",
       "0        1                    Toy Story   Adventure|Animation|Children|Comedy|Fantasy         1995\n",
       "1        2                      Jumanji                    Adventure|Children|Fantasy         1995\n",
       "2        3             Grumpier Old Men                                Comedy|Romance         1995\n",
       "3        4            Waiting to Exhale                          Comedy|Drama|Romance         1995\n",
       "4        5  Father of the Bride Part II                                        Comedy         1995"
      ]
     },
     "execution_count": 10,
     "metadata": {},
     "output_type": "execute_result"
    }
   ],
   "source": [
    "movies_df.head()"
   ]
  },
  {
   "cell_type": "markdown",
   "id": "026913cc",
   "metadata": {},
   "source": [
    "2. Extract Genres and Encode using One Hot Encoding"
   ]
  },
  {
   "cell_type": "code",
   "execution_count": 11,
   "id": "05308cef",
   "metadata": {},
   "outputs": [
    {
     "data": {
      "text/plain": [
       "['Horror',\n",
       " 'Crime',\n",
       " 'Sci-Fi',\n",
       " 'Western',\n",
       " 'Romance',\n",
       " 'Comedy',\n",
       " 'Documentary',\n",
       " 'Film-Noir',\n",
       " 'Action',\n",
       " 'Thriller',\n",
       " 'Musical',\n",
       " 'Adventure',\n",
       " 'Fantasy',\n",
       " 'IMAX',\n",
       " 'Animation',\n",
       " 'Drama',\n",
       " 'Children',\n",
       " 'War',\n",
       " 'Mystery',\n",
       " '(no genres listed)']"
      ]
     },
     "execution_count": 11,
     "metadata": {},
     "output_type": "execute_result"
    }
   ],
   "source": [
    "# Getting series of lists by applying split operation.\n",
    "movies_df.genres = movies_df.genres.str.split('|')\n",
    "# Getting distinct genre types for generating columns of genre type, set stores only distinct values\n",
    "genre_columns = list(set([j for i in movies_df['genres'].tolist() for j in i]))\n",
    "genre_columns"
   ]
  },
  {
   "cell_type": "code",
   "execution_count": 12,
   "id": "008e1008",
   "metadata": {},
   "outputs": [],
   "source": [
    "## No need for these columns\n",
    "genre_columns.remove('(no genres listed)')\n",
    "genre_columns.remove('IMAX')"
   ]
  },
  {
   "cell_type": "code",
   "execution_count": 13,
   "id": "7663dabc",
   "metadata": {},
   "outputs": [
    {
     "data": {
      "text/html": [
       "<div>\n",
       "<style scoped>\n",
       "    .dataframe tbody tr th:only-of-type {\n",
       "        vertical-align: middle;\n",
       "    }\n",
       "\n",
       "    .dataframe tbody tr th {\n",
       "        vertical-align: top;\n",
       "    }\n",
       "\n",
       "    .dataframe thead th {\n",
       "        text-align: right;\n",
       "    }\n",
       "</style>\n",
       "<table border=\"1\" class=\"dataframe\">\n",
       "  <thead>\n",
       "    <tr style=\"text-align: right;\">\n",
       "      <th></th>\n",
       "      <th>movieId</th>\n",
       "      <th>title</th>\n",
       "      <th>genres</th>\n",
       "      <th>release_year</th>\n",
       "      <th>Horror</th>\n",
       "      <th>Crime</th>\n",
       "      <th>Sci-Fi</th>\n",
       "      <th>Western</th>\n",
       "      <th>Romance</th>\n",
       "      <th>Comedy</th>\n",
       "      <th>Documentary</th>\n",
       "      <th>Film-Noir</th>\n",
       "      <th>Action</th>\n",
       "      <th>Thriller</th>\n",
       "      <th>Musical</th>\n",
       "      <th>Adventure</th>\n",
       "      <th>Fantasy</th>\n",
       "      <th>Animation</th>\n",
       "      <th>Drama</th>\n",
       "      <th>Children</th>\n",
       "      <th>War</th>\n",
       "      <th>Mystery</th>\n",
       "    </tr>\n",
       "  </thead>\n",
       "  <tbody>\n",
       "    <tr>\n",
       "      <th>0</th>\n",
       "      <td>1</td>\n",
       "      <td>Toy Story</td>\n",
       "      <td>[Adventure, Animation, Children, Comedy, Fantasy]</td>\n",
       "      <td>1995</td>\n",
       "      <td>0</td>\n",
       "      <td>0</td>\n",
       "      <td>0</td>\n",
       "      <td>0</td>\n",
       "      <td>0</td>\n",
       "      <td>0</td>\n",
       "      <td>0</td>\n",
       "      <td>0</td>\n",
       "      <td>0</td>\n",
       "      <td>0</td>\n",
       "      <td>0</td>\n",
       "      <td>0</td>\n",
       "      <td>0</td>\n",
       "      <td>0</td>\n",
       "      <td>0</td>\n",
       "      <td>0</td>\n",
       "      <td>0</td>\n",
       "      <td>0</td>\n",
       "    </tr>\n",
       "    <tr>\n",
       "      <th>1</th>\n",
       "      <td>2</td>\n",
       "      <td>Jumanji</td>\n",
       "      <td>[Adventure, Children, Fantasy]</td>\n",
       "      <td>1995</td>\n",
       "      <td>0</td>\n",
       "      <td>0</td>\n",
       "      <td>0</td>\n",
       "      <td>0</td>\n",
       "      <td>0</td>\n",
       "      <td>0</td>\n",
       "      <td>0</td>\n",
       "      <td>0</td>\n",
       "      <td>0</td>\n",
       "      <td>0</td>\n",
       "      <td>0</td>\n",
       "      <td>0</td>\n",
       "      <td>0</td>\n",
       "      <td>0</td>\n",
       "      <td>0</td>\n",
       "      <td>0</td>\n",
       "      <td>0</td>\n",
       "      <td>0</td>\n",
       "    </tr>\n",
       "    <tr>\n",
       "      <th>2</th>\n",
       "      <td>3</td>\n",
       "      <td>Grumpier Old Men</td>\n",
       "      <td>[Comedy, Romance]</td>\n",
       "      <td>1995</td>\n",
       "      <td>0</td>\n",
       "      <td>0</td>\n",
       "      <td>0</td>\n",
       "      <td>0</td>\n",
       "      <td>0</td>\n",
       "      <td>0</td>\n",
       "      <td>0</td>\n",
       "      <td>0</td>\n",
       "      <td>0</td>\n",
       "      <td>0</td>\n",
       "      <td>0</td>\n",
       "      <td>0</td>\n",
       "      <td>0</td>\n",
       "      <td>0</td>\n",
       "      <td>0</td>\n",
       "      <td>0</td>\n",
       "      <td>0</td>\n",
       "      <td>0</td>\n",
       "    </tr>\n",
       "    <tr>\n",
       "      <th>3</th>\n",
       "      <td>4</td>\n",
       "      <td>Waiting to Exhale</td>\n",
       "      <td>[Comedy, Drama, Romance]</td>\n",
       "      <td>1995</td>\n",
       "      <td>0</td>\n",
       "      <td>0</td>\n",
       "      <td>0</td>\n",
       "      <td>0</td>\n",
       "      <td>0</td>\n",
       "      <td>0</td>\n",
       "      <td>0</td>\n",
       "      <td>0</td>\n",
       "      <td>0</td>\n",
       "      <td>0</td>\n",
       "      <td>0</td>\n",
       "      <td>0</td>\n",
       "      <td>0</td>\n",
       "      <td>0</td>\n",
       "      <td>0</td>\n",
       "      <td>0</td>\n",
       "      <td>0</td>\n",
       "      <td>0</td>\n",
       "    </tr>\n",
       "    <tr>\n",
       "      <th>4</th>\n",
       "      <td>5</td>\n",
       "      <td>Father of the Bride Part II</td>\n",
       "      <td>[Comedy]</td>\n",
       "      <td>1995</td>\n",
       "      <td>0</td>\n",
       "      <td>0</td>\n",
       "      <td>0</td>\n",
       "      <td>0</td>\n",
       "      <td>0</td>\n",
       "      <td>0</td>\n",
       "      <td>0</td>\n",
       "      <td>0</td>\n",
       "      <td>0</td>\n",
       "      <td>0</td>\n",
       "      <td>0</td>\n",
       "      <td>0</td>\n",
       "      <td>0</td>\n",
       "      <td>0</td>\n",
       "      <td>0</td>\n",
       "      <td>0</td>\n",
       "      <td>0</td>\n",
       "      <td>0</td>\n",
       "    </tr>\n",
       "  </tbody>\n",
       "</table>\n",
       "</div>"
      ],
      "text/plain": [
       "   movieId                         title                                             genres release_year  Horror  Crime  Sci-Fi  Western  Romance  Comedy  Documentary  Film-Noir  Action  Thriller  Musical  Adventure  Fantasy  Animation  Drama  Children  War  Mystery\n",
       "0        1                    Toy Story   [Adventure, Animation, Children, Comedy, Fantasy]         1995       0      0       0        0        0       0            0          0       0         0        0          0        0          0      0         0    0        0\n",
       "1        2                      Jumanji                      [Adventure, Children, Fantasy]         1995       0      0       0        0        0       0            0          0       0         0        0          0        0          0      0         0    0        0\n",
       "2        3             Grumpier Old Men                                   [Comedy, Romance]         1995       0      0       0        0        0       0            0          0       0         0        0          0        0          0      0         0    0        0\n",
       "3        4            Waiting to Exhale                            [Comedy, Drama, Romance]         1995       0      0       0        0        0       0            0          0       0         0        0          0        0          0      0         0    0        0\n",
       "4        5  Father of the Bride Part II                                            [Comedy]         1995       0      0       0        0        0       0            0          0       0         0        0          0        0          0      0         0    0        0"
      ]
     },
     "execution_count": 13,
     "metadata": {},
     "output_type": "execute_result"
    }
   ],
   "source": [
    "#We are trying to one-hot encode the movies genre\n",
    "for j in genre_columns:\n",
    "    movies_df[j] = 0\n",
    "movies_df.head()"
   ]
  },
  {
   "cell_type": "code",
   "execution_count": 14,
   "id": "361e4a56",
   "metadata": {},
   "outputs": [],
   "source": [
    "#If the genre is in the list we made in genres column then one-hot the respective genre column\n",
    "for i in range(movies_df.shape[0]):\n",
    "    for j in genre_columns:\n",
    "        if(j in movies_df['genres'].iloc[i]):\n",
    "            movies_df.loc[i,j] = 1\n",
    "        else:\n",
    "            movies_df.loc[i,j] = 0"
   ]
  },
  {
   "cell_type": "code",
   "execution_count": 15,
   "id": "f3c4fc95",
   "metadata": {
    "scrolled": true
   },
   "outputs": [
    {
     "data": {
      "text/html": [
       "<div>\n",
       "<style scoped>\n",
       "    .dataframe tbody tr th:only-of-type {\n",
       "        vertical-align: middle;\n",
       "    }\n",
       "\n",
       "    .dataframe tbody tr th {\n",
       "        vertical-align: top;\n",
       "    }\n",
       "\n",
       "    .dataframe thead th {\n",
       "        text-align: right;\n",
       "    }\n",
       "</style>\n",
       "<table border=\"1\" class=\"dataframe\">\n",
       "  <thead>\n",
       "    <tr style=\"text-align: right;\">\n",
       "      <th></th>\n",
       "      <th>movieId</th>\n",
       "      <th>title</th>\n",
       "      <th>genres</th>\n",
       "      <th>release_year</th>\n",
       "      <th>Horror</th>\n",
       "      <th>Crime</th>\n",
       "      <th>Sci-Fi</th>\n",
       "      <th>Western</th>\n",
       "      <th>Romance</th>\n",
       "      <th>Comedy</th>\n",
       "      <th>Documentary</th>\n",
       "      <th>Film-Noir</th>\n",
       "      <th>Action</th>\n",
       "      <th>Thriller</th>\n",
       "      <th>Musical</th>\n",
       "      <th>Adventure</th>\n",
       "      <th>Fantasy</th>\n",
       "      <th>Animation</th>\n",
       "      <th>Drama</th>\n",
       "      <th>Children</th>\n",
       "      <th>War</th>\n",
       "      <th>Mystery</th>\n",
       "    </tr>\n",
       "  </thead>\n",
       "  <tbody>\n",
       "    <tr>\n",
       "      <th>0</th>\n",
       "      <td>1</td>\n",
       "      <td>Toy Story</td>\n",
       "      <td>[Adventure, Animation, Children, Comedy, Fantasy]</td>\n",
       "      <td>1995</td>\n",
       "      <td>0</td>\n",
       "      <td>0</td>\n",
       "      <td>0</td>\n",
       "      <td>0</td>\n",
       "      <td>0</td>\n",
       "      <td>1</td>\n",
       "      <td>0</td>\n",
       "      <td>0</td>\n",
       "      <td>0</td>\n",
       "      <td>0</td>\n",
       "      <td>0</td>\n",
       "      <td>1</td>\n",
       "      <td>1</td>\n",
       "      <td>1</td>\n",
       "      <td>0</td>\n",
       "      <td>1</td>\n",
       "      <td>0</td>\n",
       "      <td>0</td>\n",
       "    </tr>\n",
       "    <tr>\n",
       "      <th>1</th>\n",
       "      <td>2</td>\n",
       "      <td>Jumanji</td>\n",
       "      <td>[Adventure, Children, Fantasy]</td>\n",
       "      <td>1995</td>\n",
       "      <td>0</td>\n",
       "      <td>0</td>\n",
       "      <td>0</td>\n",
       "      <td>0</td>\n",
       "      <td>0</td>\n",
       "      <td>0</td>\n",
       "      <td>0</td>\n",
       "      <td>0</td>\n",
       "      <td>0</td>\n",
       "      <td>0</td>\n",
       "      <td>0</td>\n",
       "      <td>1</td>\n",
       "      <td>1</td>\n",
       "      <td>0</td>\n",
       "      <td>0</td>\n",
       "      <td>1</td>\n",
       "      <td>0</td>\n",
       "      <td>0</td>\n",
       "    </tr>\n",
       "    <tr>\n",
       "      <th>2</th>\n",
       "      <td>3</td>\n",
       "      <td>Grumpier Old Men</td>\n",
       "      <td>[Comedy, Romance]</td>\n",
       "      <td>1995</td>\n",
       "      <td>0</td>\n",
       "      <td>0</td>\n",
       "      <td>0</td>\n",
       "      <td>0</td>\n",
       "      <td>1</td>\n",
       "      <td>1</td>\n",
       "      <td>0</td>\n",
       "      <td>0</td>\n",
       "      <td>0</td>\n",
       "      <td>0</td>\n",
       "      <td>0</td>\n",
       "      <td>0</td>\n",
       "      <td>0</td>\n",
       "      <td>0</td>\n",
       "      <td>0</td>\n",
       "      <td>0</td>\n",
       "      <td>0</td>\n",
       "      <td>0</td>\n",
       "    </tr>\n",
       "    <tr>\n",
       "      <th>3</th>\n",
       "      <td>4</td>\n",
       "      <td>Waiting to Exhale</td>\n",
       "      <td>[Comedy, Drama, Romance]</td>\n",
       "      <td>1995</td>\n",
       "      <td>0</td>\n",
       "      <td>0</td>\n",
       "      <td>0</td>\n",
       "      <td>0</td>\n",
       "      <td>1</td>\n",
       "      <td>1</td>\n",
       "      <td>0</td>\n",
       "      <td>0</td>\n",
       "      <td>0</td>\n",
       "      <td>0</td>\n",
       "      <td>0</td>\n",
       "      <td>0</td>\n",
       "      <td>0</td>\n",
       "      <td>0</td>\n",
       "      <td>1</td>\n",
       "      <td>0</td>\n",
       "      <td>0</td>\n",
       "      <td>0</td>\n",
       "    </tr>\n",
       "    <tr>\n",
       "      <th>4</th>\n",
       "      <td>5</td>\n",
       "      <td>Father of the Bride Part II</td>\n",
       "      <td>[Comedy]</td>\n",
       "      <td>1995</td>\n",
       "      <td>0</td>\n",
       "      <td>0</td>\n",
       "      <td>0</td>\n",
       "      <td>0</td>\n",
       "      <td>0</td>\n",
       "      <td>1</td>\n",
       "      <td>0</td>\n",
       "      <td>0</td>\n",
       "      <td>0</td>\n",
       "      <td>0</td>\n",
       "      <td>0</td>\n",
       "      <td>0</td>\n",
       "      <td>0</td>\n",
       "      <td>0</td>\n",
       "      <td>0</td>\n",
       "      <td>0</td>\n",
       "      <td>0</td>\n",
       "      <td>0</td>\n",
       "    </tr>\n",
       "  </tbody>\n",
       "</table>\n",
       "</div>"
      ],
      "text/plain": [
       "   movieId                         title                                             genres release_year  Horror  Crime  Sci-Fi  Western  Romance  Comedy  Documentary  Film-Noir  Action  Thriller  Musical  Adventure  Fantasy  Animation  Drama  Children  War  Mystery\n",
       "0        1                    Toy Story   [Adventure, Animation, Children, Comedy, Fantasy]         1995       0      0       0        0        0       1            0          0       0         0        0          1        1          1      0         1    0        0\n",
       "1        2                      Jumanji                      [Adventure, Children, Fantasy]         1995       0      0       0        0        0       0            0          0       0         0        0          1        1          0      0         1    0        0\n",
       "2        3             Grumpier Old Men                                   [Comedy, Romance]         1995       0      0       0        0        1       1            0          0       0         0        0          0        0          0      0         0    0        0\n",
       "3        4            Waiting to Exhale                            [Comedy, Drama, Romance]         1995       0      0       0        0        1       1            0          0       0         0        0          0        0          0      1         0    0        0\n",
       "4        5  Father of the Bride Part II                                            [Comedy]         1995       0      0       0        0        0       1            0          0       0         0        0          0        0          0      0         0    0        0"
      ]
     },
     "execution_count": 15,
     "metadata": {},
     "output_type": "execute_result"
    }
   ],
   "source": [
    "#make sure everything worked fine and set columns as integer value\n",
    "movies_df.iloc[:,4:] = movies_df.iloc[:,4:].astype(int)\n",
    "movies_df.head()"
   ]
  },
  {
   "cell_type": "markdown",
   "id": "0df1f97d",
   "metadata": {},
   "source": [
    "### Missing Values"
   ]
  },
  {
   "cell_type": "code",
   "execution_count": 16,
   "id": "20c57d9f",
   "metadata": {
    "scrolled": true
   },
   "outputs": [
    {
     "data": {
      "text/plain": [
       "movieId          0\n",
       "title            0\n",
       "genres           0\n",
       "release_year    12\n",
       "Horror           0\n",
       "Crime            0\n",
       "Sci-Fi           0\n",
       "Western          0\n",
       "Romance          0\n",
       "Comedy           0\n",
       "Documentary      0\n",
       "Film-Noir        0\n",
       "Action           0\n",
       "Thriller         0\n",
       "Musical          0\n",
       "Adventure        0\n",
       "Fantasy          0\n",
       "Animation        0\n",
       "Drama            0\n",
       "Children         0\n",
       "War              0\n",
       "Mystery          0\n",
       "dtype: int64"
      ]
     },
     "execution_count": 16,
     "metadata": {},
     "output_type": "execute_result"
    }
   ],
   "source": [
    "movies_df.isna().sum(axis=0)"
   ]
  },
  {
   "cell_type": "code",
   "execution_count": 17,
   "id": "9321868d",
   "metadata": {},
   "outputs": [],
   "source": [
    "## To handle missing values, release year must be converted to int\n",
    "## Set the missing year values as -1 first\n",
    "movies_df.loc[movies_df.isna()['release_year'],'release_year'] = -1\n",
    "\n",
    "## Now, convert column to integer values\n",
    "movies_df['release_year'] = movies_df['release_year'].astype(int)\n",
    "\n",
    "## Now, replace with median\n",
    "## Keep in mind, that -1 must NOT be considered while calculating median\n",
    "year_imputer = movies_df.loc[movies_df['release_year'] != -1 , 'release_year'].median()\n",
    "year_imputer = int(year_imputer)\n",
    "movies_df.loc[movies_df['release_year'] == -1 , 'release_year'] = year_imputer "
   ]
  },
  {
   "cell_type": "code",
   "execution_count": 43,
   "id": "de0d63fa",
   "metadata": {},
   "outputs": [],
   "source": [
    "movies_df.drop(columns=['genres'],inplace=True)"
   ]
  },
  {
   "cell_type": "markdown",
   "id": "6ec4a442",
   "metadata": {},
   "source": [
    "## Links Dataframe"
   ]
  },
  {
   "cell_type": "code",
   "execution_count": 18,
   "id": "99c08d03",
   "metadata": {
    "scrolled": true
   },
   "outputs": [
    {
     "data": {
      "text/html": [
       "<div>\n",
       "<style scoped>\n",
       "    .dataframe tbody tr th:only-of-type {\n",
       "        vertical-align: middle;\n",
       "    }\n",
       "\n",
       "    .dataframe tbody tr th {\n",
       "        vertical-align: top;\n",
       "    }\n",
       "\n",
       "    .dataframe thead th {\n",
       "        text-align: right;\n",
       "    }\n",
       "</style>\n",
       "<table border=\"1\" class=\"dataframe\">\n",
       "  <thead>\n",
       "    <tr style=\"text-align: right;\">\n",
       "      <th></th>\n",
       "      <th>movieId</th>\n",
       "      <th>imdbId</th>\n",
       "      <th>tmdbId</th>\n",
       "    </tr>\n",
       "  </thead>\n",
       "  <tbody>\n",
       "    <tr>\n",
       "      <th>0</th>\n",
       "      <td>1</td>\n",
       "      <td>114709</td>\n",
       "      <td>862.000</td>\n",
       "    </tr>\n",
       "    <tr>\n",
       "      <th>1</th>\n",
       "      <td>2</td>\n",
       "      <td>113497</td>\n",
       "      <td>8844.000</td>\n",
       "    </tr>\n",
       "    <tr>\n",
       "      <th>2</th>\n",
       "      <td>3</td>\n",
       "      <td>113228</td>\n",
       "      <td>15602.000</td>\n",
       "    </tr>\n",
       "    <tr>\n",
       "      <th>3</th>\n",
       "      <td>4</td>\n",
       "      <td>114885</td>\n",
       "      <td>31357.000</td>\n",
       "    </tr>\n",
       "    <tr>\n",
       "      <th>4</th>\n",
       "      <td>5</td>\n",
       "      <td>113041</td>\n",
       "      <td>11862.000</td>\n",
       "    </tr>\n",
       "  </tbody>\n",
       "</table>\n",
       "</div>"
      ],
      "text/plain": [
       "   movieId  imdbId    tmdbId\n",
       "0        1  114709   862.000\n",
       "1        2  113497  8844.000\n",
       "2        3  113228 15602.000\n",
       "3        4  114885 31357.000\n",
       "4        5  113041 11862.000"
      ]
     },
     "execution_count": 18,
     "metadata": {},
     "output_type": "execute_result"
    }
   ],
   "source": [
    "links_df.head()"
   ]
  },
  {
   "cell_type": "markdown",
   "id": "ba6bc54c",
   "metadata": {},
   "source": [
    "### Missing Values"
   ]
  },
  {
   "cell_type": "code",
   "execution_count": 19,
   "id": "fad460b1",
   "metadata": {},
   "outputs": [
    {
     "data": {
      "text/plain": [
       "movieId    0\n",
       "imdbId     0\n",
       "tmdbId     8\n",
       "dtype: int64"
      ]
     },
     "execution_count": 19,
     "metadata": {},
     "output_type": "execute_result"
    }
   ],
   "source": [
    "links_df.isna().sum()"
   ]
  },
  {
   "cell_type": "code",
   "execution_count": 20,
   "id": "4b5e6887",
   "metadata": {},
   "outputs": [],
   "source": [
    "## I can not drop these directly from dataframe just yet because I have to merge the dataframes\n",
    "## I will make a memory of the IDs for future\n",
    "dropped_links_movieid = links_df[links_df.isna()['tmdbId']]['movieId']\n",
    "links_df.dropna(axis=0,inplace=True)"
   ]
  },
  {
   "cell_type": "markdown",
   "id": "7276d26d",
   "metadata": {},
   "source": [
    "## Ratings Dataframe"
   ]
  },
  {
   "cell_type": "code",
   "execution_count": 21,
   "id": "29842e08",
   "metadata": {
    "scrolled": false
   },
   "outputs": [
    {
     "data": {
      "text/html": [
       "<div>\n",
       "<style scoped>\n",
       "    .dataframe tbody tr th:only-of-type {\n",
       "        vertical-align: middle;\n",
       "    }\n",
       "\n",
       "    .dataframe tbody tr th {\n",
       "        vertical-align: top;\n",
       "    }\n",
       "\n",
       "    .dataframe thead th {\n",
       "        text-align: right;\n",
       "    }\n",
       "</style>\n",
       "<table border=\"1\" class=\"dataframe\">\n",
       "  <thead>\n",
       "    <tr style=\"text-align: right;\">\n",
       "      <th></th>\n",
       "      <th>userId</th>\n",
       "      <th>movieId</th>\n",
       "      <th>rating</th>\n",
       "      <th>timestamp</th>\n",
       "    </tr>\n",
       "  </thead>\n",
       "  <tbody>\n",
       "    <tr>\n",
       "      <th>0</th>\n",
       "      <td>1</td>\n",
       "      <td>1</td>\n",
       "      <td>4.000</td>\n",
       "      <td>964982703</td>\n",
       "    </tr>\n",
       "    <tr>\n",
       "      <th>1</th>\n",
       "      <td>1</td>\n",
       "      <td>3</td>\n",
       "      <td>4.000</td>\n",
       "      <td>964981247</td>\n",
       "    </tr>\n",
       "    <tr>\n",
       "      <th>2</th>\n",
       "      <td>1</td>\n",
       "      <td>6</td>\n",
       "      <td>4.000</td>\n",
       "      <td>964982224</td>\n",
       "    </tr>\n",
       "    <tr>\n",
       "      <th>3</th>\n",
       "      <td>1</td>\n",
       "      <td>47</td>\n",
       "      <td>5.000</td>\n",
       "      <td>964983815</td>\n",
       "    </tr>\n",
       "    <tr>\n",
       "      <th>4</th>\n",
       "      <td>1</td>\n",
       "      <td>50</td>\n",
       "      <td>5.000</td>\n",
       "      <td>964982931</td>\n",
       "    </tr>\n",
       "  </tbody>\n",
       "</table>\n",
       "</div>"
      ],
      "text/plain": [
       "   userId  movieId  rating  timestamp\n",
       "0       1        1   4.000  964982703\n",
       "1       1        3   4.000  964981247\n",
       "2       1        6   4.000  964982224\n",
       "3       1       47   5.000  964983815\n",
       "4       1       50   5.000  964982931"
      ]
     },
     "execution_count": 21,
     "metadata": {},
     "output_type": "execute_result"
    }
   ],
   "source": [
    "ratings_df.head()"
   ]
  },
  {
   "cell_type": "markdown",
   "id": "c01059d4",
   "metadata": {},
   "source": [
    "### Missing Values"
   ]
  },
  {
   "cell_type": "code",
   "execution_count": 22,
   "id": "086673c1",
   "metadata": {
    "scrolled": true
   },
   "outputs": [
    {
     "data": {
      "text/plain": [
       "userId       0\n",
       "movieId      0\n",
       "rating       0\n",
       "timestamp    0\n",
       "dtype: int64"
      ]
     },
     "execution_count": 22,
     "metadata": {},
     "output_type": "execute_result"
    }
   ],
   "source": [
    "ratings_df.isna().sum(axis=0)"
   ]
  },
  {
   "cell_type": "markdown",
   "id": "63c17fed",
   "metadata": {},
   "source": [
    "## Tags Dataframe"
   ]
  },
  {
   "cell_type": "code",
   "execution_count": 23,
   "id": "1a6d5322",
   "metadata": {
    "scrolled": true
   },
   "outputs": [
    {
     "data": {
      "text/html": [
       "<div>\n",
       "<style scoped>\n",
       "    .dataframe tbody tr th:only-of-type {\n",
       "        vertical-align: middle;\n",
       "    }\n",
       "\n",
       "    .dataframe tbody tr th {\n",
       "        vertical-align: top;\n",
       "    }\n",
       "\n",
       "    .dataframe thead th {\n",
       "        text-align: right;\n",
       "    }\n",
       "</style>\n",
       "<table border=\"1\" class=\"dataframe\">\n",
       "  <thead>\n",
       "    <tr style=\"text-align: right;\">\n",
       "      <th></th>\n",
       "      <th>userId</th>\n",
       "      <th>movieId</th>\n",
       "      <th>tag</th>\n",
       "      <th>timestamp</th>\n",
       "    </tr>\n",
       "  </thead>\n",
       "  <tbody>\n",
       "    <tr>\n",
       "      <th>0</th>\n",
       "      <td>2</td>\n",
       "      <td>60756</td>\n",
       "      <td>funny</td>\n",
       "      <td>1445714994</td>\n",
       "    </tr>\n",
       "    <tr>\n",
       "      <th>1</th>\n",
       "      <td>2</td>\n",
       "      <td>60756</td>\n",
       "      <td>Highly quotable</td>\n",
       "      <td>1445714996</td>\n",
       "    </tr>\n",
       "    <tr>\n",
       "      <th>2</th>\n",
       "      <td>2</td>\n",
       "      <td>60756</td>\n",
       "      <td>will ferrell</td>\n",
       "      <td>1445714992</td>\n",
       "    </tr>\n",
       "    <tr>\n",
       "      <th>3</th>\n",
       "      <td>2</td>\n",
       "      <td>89774</td>\n",
       "      <td>Boxing story</td>\n",
       "      <td>1445715207</td>\n",
       "    </tr>\n",
       "    <tr>\n",
       "      <th>4</th>\n",
       "      <td>2</td>\n",
       "      <td>89774</td>\n",
       "      <td>MMA</td>\n",
       "      <td>1445715200</td>\n",
       "    </tr>\n",
       "    <tr>\n",
       "      <th>...</th>\n",
       "      <td>...</td>\n",
       "      <td>...</td>\n",
       "      <td>...</td>\n",
       "      <td>...</td>\n",
       "    </tr>\n",
       "    <tr>\n",
       "      <th>3678</th>\n",
       "      <td>606</td>\n",
       "      <td>7382</td>\n",
       "      <td>for katie</td>\n",
       "      <td>1171234019</td>\n",
       "    </tr>\n",
       "    <tr>\n",
       "      <th>3679</th>\n",
       "      <td>606</td>\n",
       "      <td>7936</td>\n",
       "      <td>austere</td>\n",
       "      <td>1173392334</td>\n",
       "    </tr>\n",
       "    <tr>\n",
       "      <th>3680</th>\n",
       "      <td>610</td>\n",
       "      <td>3265</td>\n",
       "      <td>gun fu</td>\n",
       "      <td>1493843984</td>\n",
       "    </tr>\n",
       "    <tr>\n",
       "      <th>3681</th>\n",
       "      <td>610</td>\n",
       "      <td>3265</td>\n",
       "      <td>heroic bloodshed</td>\n",
       "      <td>1493843978</td>\n",
       "    </tr>\n",
       "    <tr>\n",
       "      <th>3682</th>\n",
       "      <td>610</td>\n",
       "      <td>168248</td>\n",
       "      <td>Heroic Bloodshed</td>\n",
       "      <td>1493844270</td>\n",
       "    </tr>\n",
       "  </tbody>\n",
       "</table>\n",
       "<p>3683 rows × 4 columns</p>\n",
       "</div>"
      ],
      "text/plain": [
       "      userId  movieId               tag   timestamp\n",
       "0          2    60756             funny  1445714994\n",
       "1          2    60756   Highly quotable  1445714996\n",
       "2          2    60756      will ferrell  1445714992\n",
       "3          2    89774      Boxing story  1445715207\n",
       "4          2    89774               MMA  1445715200\n",
       "...      ...      ...               ...         ...\n",
       "3678     606     7382         for katie  1171234019\n",
       "3679     606     7936           austere  1173392334\n",
       "3680     610     3265            gun fu  1493843984\n",
       "3681     610     3265  heroic bloodshed  1493843978\n",
       "3682     610   168248  Heroic Bloodshed  1493844270\n",
       "\n",
       "[3683 rows x 4 columns]"
      ]
     },
     "execution_count": 23,
     "metadata": {},
     "output_type": "execute_result"
    }
   ],
   "source": [
    "tags_df"
   ]
  },
  {
   "cell_type": "markdown",
   "id": "4ebde685",
   "metadata": {},
   "source": [
    "### Data Cleaning"
   ]
  },
  {
   "cell_type": "code",
   "execution_count": 24,
   "id": "a1fc47b4",
   "metadata": {},
   "outputs": [],
   "source": [
    "tags_df['tag'] = tags_df.tag.str.lower()"
   ]
  },
  {
   "cell_type": "code",
   "execution_count": 25,
   "id": "83d52696",
   "metadata": {},
   "outputs": [],
   "source": [
    "for i,j in tags_df.iterrows():\n",
    "    tag = j.tag\n",
    "    tag_correct = re.sub(r' \\([^)]*\\)','',tag)\n",
    "    if 'based' or '-' in tag_correct:\n",
    "        tags_df.loc[i,'tag'] = tag_correct\n",
    "        continue\n",
    "    if re.findall(r'\\b\\w{2}\\b',tag_correct) or re.findall(r'\\b\\w{1}\\b',tag_correct):\n",
    "        tags_df.loc[i,'tag'] = np.NaN\n",
    "    elif tag == tag_correct:\n",
    "        continue\n",
    "    else:\n",
    "        tags_df.loc[i,'tag'] = tag_correct\n",
    "        pass\n",
    "\n",
    "tags_df = tags_df.dropna()     "
   ]
  },
  {
   "cell_type": "code",
   "execution_count": 26,
   "id": "083fd028",
   "metadata": {
    "scrolled": false
   },
   "outputs": [
    {
     "data": {
      "text/html": [
       "<div>\n",
       "<style scoped>\n",
       "    .dataframe tbody tr th:only-of-type {\n",
       "        vertical-align: middle;\n",
       "    }\n",
       "\n",
       "    .dataframe tbody tr th {\n",
       "        vertical-align: top;\n",
       "    }\n",
       "\n",
       "    .dataframe thead th {\n",
       "        text-align: right;\n",
       "    }\n",
       "</style>\n",
       "<table border=\"1\" class=\"dataframe\">\n",
       "  <thead>\n",
       "    <tr style=\"text-align: right;\">\n",
       "      <th></th>\n",
       "      <th>userId</th>\n",
       "      <th>movieId</th>\n",
       "      <th>tag</th>\n",
       "      <th>timestamp</th>\n",
       "    </tr>\n",
       "  </thead>\n",
       "  <tbody>\n",
       "    <tr>\n",
       "      <th>0</th>\n",
       "      <td>2</td>\n",
       "      <td>60756</td>\n",
       "      <td>funny</td>\n",
       "      <td>1445714994</td>\n",
       "    </tr>\n",
       "    <tr>\n",
       "      <th>1</th>\n",
       "      <td>2</td>\n",
       "      <td>60756</td>\n",
       "      <td>highly quotable</td>\n",
       "      <td>1445714996</td>\n",
       "    </tr>\n",
       "    <tr>\n",
       "      <th>2</th>\n",
       "      <td>2</td>\n",
       "      <td>60756</td>\n",
       "      <td>will ferrell</td>\n",
       "      <td>1445714992</td>\n",
       "    </tr>\n",
       "    <tr>\n",
       "      <th>3</th>\n",
       "      <td>2</td>\n",
       "      <td>89774</td>\n",
       "      <td>boxing story</td>\n",
       "      <td>1445715207</td>\n",
       "    </tr>\n",
       "    <tr>\n",
       "      <th>4</th>\n",
       "      <td>2</td>\n",
       "      <td>89774</td>\n",
       "      <td>mma</td>\n",
       "      <td>1445715200</td>\n",
       "    </tr>\n",
       "    <tr>\n",
       "      <th>5</th>\n",
       "      <td>2</td>\n",
       "      <td>89774</td>\n",
       "      <td>tom hardy</td>\n",
       "      <td>1445715205</td>\n",
       "    </tr>\n",
       "    <tr>\n",
       "      <th>6</th>\n",
       "      <td>2</td>\n",
       "      <td>106782</td>\n",
       "      <td>drugs</td>\n",
       "      <td>1445715054</td>\n",
       "    </tr>\n",
       "    <tr>\n",
       "      <th>7</th>\n",
       "      <td>2</td>\n",
       "      <td>106782</td>\n",
       "      <td>leonardo dicaprio</td>\n",
       "      <td>1445715051</td>\n",
       "    </tr>\n",
       "    <tr>\n",
       "      <th>8</th>\n",
       "      <td>2</td>\n",
       "      <td>106782</td>\n",
       "      <td>martin scorsese</td>\n",
       "      <td>1445715056</td>\n",
       "    </tr>\n",
       "    <tr>\n",
       "      <th>9</th>\n",
       "      <td>7</td>\n",
       "      <td>48516</td>\n",
       "      <td>way too long</td>\n",
       "      <td>1169687325</td>\n",
       "    </tr>\n",
       "  </tbody>\n",
       "</table>\n",
       "</div>"
      ],
      "text/plain": [
       "   userId  movieId                tag   timestamp\n",
       "0       2    60756              funny  1445714994\n",
       "1       2    60756    highly quotable  1445714996\n",
       "2       2    60756       will ferrell  1445714992\n",
       "3       2    89774       boxing story  1445715207\n",
       "4       2    89774                mma  1445715200\n",
       "5       2    89774          tom hardy  1445715205\n",
       "6       2   106782              drugs  1445715054\n",
       "7       2   106782  leonardo dicaprio  1445715051\n",
       "8       2   106782    martin scorsese  1445715056\n",
       "9       7    48516       way too long  1169687325"
      ]
     },
     "execution_count": 26,
     "metadata": {},
     "output_type": "execute_result"
    }
   ],
   "source": [
    "tags_df.head(10)"
   ]
  },
  {
   "cell_type": "code",
   "execution_count": 38,
   "id": "20af85b8",
   "metadata": {},
   "outputs": [],
   "source": [
    "tags_df.drop(columns=['timestamp'],inplace=True)"
   ]
  },
  {
   "cell_type": "markdown",
   "id": "e203f3d5",
   "metadata": {},
   "source": [
    "### Missing Values"
   ]
  },
  {
   "cell_type": "code",
   "execution_count": 27,
   "id": "a188bacb",
   "metadata": {},
   "outputs": [
    {
     "data": {
      "text/plain": [
       "userId       0\n",
       "movieId      0\n",
       "tag          0\n",
       "timestamp    0\n",
       "dtype: int64"
      ]
     },
     "execution_count": 27,
     "metadata": {},
     "output_type": "execute_result"
    }
   ],
   "source": [
    "tags_df.isna().sum(axis=0)"
   ]
  },
  {
   "cell_type": "markdown",
   "id": "db9883f4",
   "metadata": {},
   "source": [
    "## Data Visualization"
   ]
  },
  {
   "cell_type": "code",
   "execution_count": 28,
   "id": "9f8149ff",
   "metadata": {
    "scrolled": true
   },
   "outputs": [
    {
     "data": {
      "text/plain": [
       "<AxesSubplot:>"
      ]
     },
     "execution_count": 28,
     "metadata": {},
     "output_type": "execute_result"
    },
    {
     "data": {
      "image/png": "[encoded data removed]",
      "text/plain": [
       "<Figure size 432x288 with 1 Axes>"
      ]
     },
     "metadata": {
      "needs_background": "light"
     },
     "output_type": "display_data"
    }
   ],
   "source": [
    "genre_counts = movies_df.iloc[:,4:].sum(axis=0).sort_values()\n",
    "genre_counts.plot(kind='bar')"
   ]
  },
  {
   "cell_type": "code",
   "execution_count": 29,
   "id": "1742a13b",
   "metadata": {},
   "outputs": [
    {
     "data": {
      "image/png": "[encoded data removed]",
      "text/plain": [
       "<Figure size 720x360 with 1 Axes>"
      ]
     },
     "metadata": {},
     "output_type": "display_data"
    }
   ],
   "source": [
    "plt.rcParams[\"figure.figsize\"] = (10,5)\n",
    "dftmp = movies_df[['movieId', 'release_year']].groupby('release_year')\n",
    "sns.set(style=\"ticks\")\n",
    "sns.lineplot(x = dftmp.release_year.first(), y = dftmp.movieId.nunique(),markers='o',color='g')\n",
    "plt.grid()"
   ]
  },
  {
   "cell_type": "markdown",
   "id": "e9e7c2dd",
   "metadata": {},
   "source": [
    "## Merging Datasets"
   ]
  },
  {
   "cell_type": "code",
   "execution_count": 30,
   "id": "24b98af2",
   "metadata": {},
   "outputs": [],
   "source": [
    "## Calculate Average Mean Ratings of Every Movie\n",
    "movie_ratings = ratings_df.groupby(by ='movieId')['rating'].mean()"
   ]
  },
  {
   "cell_type": "code",
   "execution_count": 31,
   "id": "c2ea4e04",
   "metadata": {},
   "outputs": [
    {
     "data": {
      "text/html": [
       "<div>\n",
       "<style scoped>\n",
       "    .dataframe tbody tr th:only-of-type {\n",
       "        vertical-align: middle;\n",
       "    }\n",
       "\n",
       "    .dataframe tbody tr th {\n",
       "        vertical-align: top;\n",
       "    }\n",
       "\n",
       "    .dataframe thead th {\n",
       "        text-align: right;\n",
       "    }\n",
       "</style>\n",
       "<table border=\"1\" class=\"dataframe\">\n",
       "  <thead>\n",
       "    <tr style=\"text-align: right;\">\n",
       "      <th></th>\n",
       "      <th>movieId</th>\n",
       "      <th>title</th>\n",
       "      <th>rating</th>\n",
       "    </tr>\n",
       "  </thead>\n",
       "  <tbody>\n",
       "    <tr>\n",
       "      <th>0</th>\n",
       "      <td>1</td>\n",
       "      <td>Toy Story</td>\n",
       "      <td>3.921</td>\n",
       "    </tr>\n",
       "    <tr>\n",
       "      <th>1</th>\n",
       "      <td>2</td>\n",
       "      <td>Jumanji</td>\n",
       "      <td>3.432</td>\n",
       "    </tr>\n",
       "    <tr>\n",
       "      <th>2</th>\n",
       "      <td>3</td>\n",
       "      <td>Grumpier Old Men</td>\n",
       "      <td>3.260</td>\n",
       "    </tr>\n",
       "    <tr>\n",
       "      <th>3</th>\n",
       "      <td>4</td>\n",
       "      <td>Waiting to Exhale</td>\n",
       "      <td>2.357</td>\n",
       "    </tr>\n",
       "    <tr>\n",
       "      <th>4</th>\n",
       "      <td>5</td>\n",
       "      <td>Father of the Bride Part II</td>\n",
       "      <td>3.071</td>\n",
       "    </tr>\n",
       "  </tbody>\n",
       "</table>\n",
       "</div>"
      ],
      "text/plain": [
       "   movieId                         title  rating\n",
       "0        1                    Toy Story    3.921\n",
       "1        2                      Jumanji    3.432\n",
       "2        3             Grumpier Old Men    3.260\n",
       "3        4            Waiting to Exhale    2.357\n",
       "4        5  Father of the Bride Part II    3.071"
      ]
     },
     "execution_count": 31,
     "metadata": {},
     "output_type": "execute_result"
    }
   ],
   "source": [
    "## Create a new Dataframe\n",
    "mov_temp = movies_df[['movieId','title']]\n",
    "rat_temp = movie_ratings\n",
    "movies_ratings = mov_temp.merge(rat_temp, on='movieId' , how = 'left')\n",
    "movies_ratings.head()"
   ]
  },
  {
   "cell_type": "code",
   "execution_count": 32,
   "id": "1314b506",
   "metadata": {
    "scrolled": false
   },
   "outputs": [
    {
     "data": {
      "text/plain": [
       "<AxesSubplot:xlabel='rating', ylabel='Count'>"
      ]
     },
     "execution_count": 32,
     "metadata": {},
     "output_type": "execute_result"
    },
    {
     "data": {
      "image/png": "[encoded data removed]",
      "text/plain": [
       "<Figure size 720x360 with 1 Axes>"
      ]
     },
     "metadata": {},
     "output_type": "display_data"
    }
   ],
   "source": [
    "sns.histplot(data=movies_ratings['rating'],bins=10)"
   ]
  },
  {
   "cell_type": "markdown",
   "id": "1becc81d",
   "metadata": {},
   "source": [
    "This looks normalized"
   ]
  },
  {
   "cell_type": "code",
   "execution_count": 33,
   "id": "eaa0da91",
   "metadata": {},
   "outputs": [
    {
     "data": {
      "text/html": [
       "<div>\n",
       "<style scoped>\n",
       "    .dataframe tbody tr th:only-of-type {\n",
       "        vertical-align: middle;\n",
       "    }\n",
       "\n",
       "    .dataframe tbody tr th {\n",
       "        vertical-align: top;\n",
       "    }\n",
       "\n",
       "    .dataframe thead th {\n",
       "        text-align: right;\n",
       "    }\n",
       "</style>\n",
       "<table border=\"1\" class=\"dataframe\">\n",
       "  <thead>\n",
       "    <tr style=\"text-align: right;\">\n",
       "      <th></th>\n",
       "      <th>movieId</th>\n",
       "      <th>title</th>\n",
       "      <th>rating</th>\n",
       "      <th>rating_cnt</th>\n",
       "    </tr>\n",
       "  </thead>\n",
       "  <tbody>\n",
       "    <tr>\n",
       "      <th>0</th>\n",
       "      <td>1</td>\n",
       "      <td>Toy Story</td>\n",
       "      <td>3.921</td>\n",
       "      <td>215</td>\n",
       "    </tr>\n",
       "    <tr>\n",
       "      <th>1</th>\n",
       "      <td>2</td>\n",
       "      <td>Jumanji</td>\n",
       "      <td>3.432</td>\n",
       "      <td>110</td>\n",
       "    </tr>\n",
       "    <tr>\n",
       "      <th>2</th>\n",
       "      <td>3</td>\n",
       "      <td>Grumpier Old Men</td>\n",
       "      <td>3.260</td>\n",
       "      <td>52</td>\n",
       "    </tr>\n",
       "    <tr>\n",
       "      <th>3</th>\n",
       "      <td>4</td>\n",
       "      <td>Waiting to Exhale</td>\n",
       "      <td>2.357</td>\n",
       "      <td>7</td>\n",
       "    </tr>\n",
       "    <tr>\n",
       "      <th>4</th>\n",
       "      <td>5</td>\n",
       "      <td>Father of the Bride Part II</td>\n",
       "      <td>3.071</td>\n",
       "      <td>49</td>\n",
       "    </tr>\n",
       "    <tr>\n",
       "      <th>...</th>\n",
       "      <td>...</td>\n",
       "      <td>...</td>\n",
       "      <td>...</td>\n",
       "      <td>...</td>\n",
       "    </tr>\n",
       "    <tr>\n",
       "      <th>9737</th>\n",
       "      <td>193581</td>\n",
       "      <td>Black Butler: Book of the Atlantic</td>\n",
       "      <td>4.000</td>\n",
       "      <td>1</td>\n",
       "    </tr>\n",
       "    <tr>\n",
       "      <th>9738</th>\n",
       "      <td>193583</td>\n",
       "      <td>No Game No Life: Zero</td>\n",
       "      <td>3.500</td>\n",
       "      <td>1</td>\n",
       "    </tr>\n",
       "    <tr>\n",
       "      <th>9739</th>\n",
       "      <td>193585</td>\n",
       "      <td>Flint</td>\n",
       "      <td>3.500</td>\n",
       "      <td>1</td>\n",
       "    </tr>\n",
       "    <tr>\n",
       "      <th>9740</th>\n",
       "      <td>193587</td>\n",
       "      <td>Bungo Stray Dogs: Dead Apple</td>\n",
       "      <td>3.500</td>\n",
       "      <td>1</td>\n",
       "    </tr>\n",
       "    <tr>\n",
       "      <th>9741</th>\n",
       "      <td>193609</td>\n",
       "      <td>Andrew Dice Clay: Dice Rules</td>\n",
       "      <td>4.000</td>\n",
       "      <td>1</td>\n",
       "    </tr>\n",
       "  </tbody>\n",
       "</table>\n",
       "<p>9742 rows × 4 columns</p>\n",
       "</div>"
      ],
      "text/plain": [
       "      movieId                                title  rating  rating_cnt\n",
       "0           1                           Toy Story    3.921         215\n",
       "1           2                             Jumanji    3.432         110\n",
       "2           3                    Grumpier Old Men    3.260          52\n",
       "3           4                   Waiting to Exhale    2.357           7\n",
       "4           5         Father of the Bride Part II    3.071          49\n",
       "...       ...                                  ...     ...         ...\n",
       "9737   193581  Black Butler: Book of the Atlantic    4.000           1\n",
       "9738   193583               No Game No Life: Zero    3.500           1\n",
       "9739   193585                               Flint    3.500           1\n",
       "9740   193587        Bungo Stray Dogs: Dead Apple    3.500           1\n",
       "9741   193609        Andrew Dice Clay: Dice Rules    4.000           1\n",
       "\n",
       "[9742 rows x 4 columns]"
      ]
     },
     "execution_count": 33,
     "metadata": {},
     "output_type": "execute_result"
    }
   ],
   "source": [
    "movies_ratings['rating_cnt'] = 0\n",
    "movie_ratings_cnt = ratings_df.groupby(by ='movieId')['rating'].count()\n",
    "\n",
    "movies_ratings_cnt = mov_temp.merge(movie_ratings_cnt, on='movieId' , how = 'left')\n",
    "movies_ratings_cnt.head()\n",
    "\n",
    "movies_ratings['rating_cnt'] = movies_ratings_cnt['rating'].fillna(0).astype(int)\n",
    "movies_ratings"
   ]
  },
  {
   "cell_type": "code",
   "execution_count": 34,
   "id": "808bbf84",
   "metadata": {},
   "outputs": [
    {
     "data": {
      "text/plain": [
       "<AxesSubplot:xlabel='rating_cnt', ylabel='Count'>"
      ]
     },
     "execution_count": 34,
     "metadata": {},
     "output_type": "execute_result"
    },
    {
     "data": {
      "image/png": "[encoded data removed]",
      "text/plain": [
       "<Figure size 720x360 with 1 Axes>"
      ]
     },
     "metadata": {},
     "output_type": "display_data"
    }
   ],
   "source": [
    "sns.histplot(data=movies_ratings['rating_cnt'],bins=10)"
   ]
  },
  {
   "cell_type": "markdown",
   "id": "3f5b6410",
   "metadata": {},
   "source": [
    "## Saving Dataframes"
   ]
  },
  {
   "cell_type": "code",
   "execution_count": 44,
   "id": "eebcc186",
   "metadata": {},
   "outputs": [],
   "source": [
    "movies_df.to_csv('movie_genres.csv',index=False)\n",
    "tags_df.to_csv('movie_tags.csv',index=False)"
   ]
  },
  {
   "cell_type": "code",
   "execution_count": null,
   "id": "011bcc98",
   "metadata": {},
   "outputs": [],
   "source": []
  }
 ],
 "metadata": {
  "kernelspec": {
   "display_name": "Python 3 (ipykernel)",
   "language": "python",
   "name": "python3"
  },
  "language_info": {
   "codemirror_mode": {
    "name": "ipython",
    "version": 3
   },
   "file_extension": ".py",
   "mimetype": "text/x-python",
   "name": "python",
   "nbconvert_exporter": "python",
   "pygments_lexer": "ipython3",
   "version": "3.9.7"
  }
 },
 "nbformat": 4,
 "nbformat_minor": 5
}
